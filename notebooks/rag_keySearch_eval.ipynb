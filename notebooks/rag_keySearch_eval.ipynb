{
 "cells": [
  {
   "cell_type": "code",
   "execution_count": 1,
   "metadata": {},
   "outputs": [
    {
     "name": "stderr",
     "output_type": "stream",
     "text": [
      "[nltk_data] Downloading package punkt to\n",
      "[nltk_data]     /Users/whysocurious/nltk_data...\n",
      "[nltk_data]   Package punkt is already up-to-date!\n"
     ]
    }
   ],
   "source": [
    "import os\n",
    "import re\n",
    "import PyPDF2\n",
    "import json\n",
    "\n",
    "import nltk\n",
    "nltk.download('punkt')\n",
    "\n",
    "from dotenv import load_dotenv\n",
    "from openai import OpenAI\n",
    "from tqdm import tqdm\n",
    "\n",
    "# Load environment variables from the .envrc file\n",
    "load_dotenv('../.envrc')\n",
    "\n",
    "client = OpenAI(\n",
    "    api_key=os.getenv(\"OPENAI_API_KEY\"),\n",
    ")"
   ]
  },
  {
   "cell_type": "code",
   "execution_count": 2,
   "metadata": {},
   "outputs": [],
   "source": [
    "from elasticsearch import Elasticsearch\n",
    "\n",
    "# Create an Elasticsearch client instance\n",
    "es = Elasticsearch(\n",
    "    [{'scheme': 'http', 'host': 'localhost', 'port': 9200}]\n",
    ")\n",
    "\n",
    "index_name = 'enhanced_stock_analyzer'"
   ]
  },
  {
   "cell_type": "code",
   "execution_count": 3,
   "metadata": {},
   "outputs": [
    {
     "name": "stderr",
     "output_type": "stream",
     "text": [
      "/var/folders/8x/4tbqnfzd0tz4gn4chf6rr2ch0000gp/T/ipykernel_12574/3529335748.py:16: ElasticsearchWarning: Elasticsearch built-in security features are not enabled. Without authentication, your cluster could be accessible to anyone. See https://www.elastic.co/guide/en/elasticsearch/reference/7.17/security-minimal-setup.html to enable security.\n",
      "  if not es.indices.exists(index=index_name):\n"
     ]
    }
   ],
   "source": [
    "index_mapping = {\n",
    "    'mappings': {\n",
    "        'properties': {\n",
    "            'source': {'type': 'keyword'},\n",
    "            'year': {'type': 'keyword'},\n",
    "            'chunk_id': {'type': 'keyword'},\n",
    "            'content': {'type': 'text'},\n",
    "            'summary': {'type': 'text'},\n",
    "            'key_topics': {'type': 'text'},\n",
    "            # Add more fields if needed\n",
    "        }\n",
    "    }\n",
    "}\n",
    "\n",
    "# Create the index\n",
    "if not es.indices.exists(index=index_name):\n",
    "    es.indices.create(index=index_name, body=index_mapping)\n"
   ]
  },
  {
   "cell_type": "code",
   "execution_count": 4,
   "metadata": {},
   "outputs": [
    {
     "data": {
      "text/plain": [
       "1625"
      ]
     },
     "execution_count": 4,
     "metadata": {},
     "output_type": "execute_result"
    }
   ],
   "source": [
    "letters_path = '../data/buffet_letters.json'\n",
    "with open(letters_path, 'r') as json_file:\n",
    "    processed_letters = json.load(json_file)\n",
    "\n",
    "report_path = '../data/annual_reports.json'\n",
    "with open(report_path, 'r') as json_file:\n",
    "    processed_reports = json.load(json_file)\n",
    "\n",
    "\n",
    "for item in processed_letters:\n",
    "    metdt = item['metadata'].split('\\n')\n",
    "    item['summary'] = metdt[0][len(\"summary:\"):].strip()\n",
    "    item['key_topics'] = [i.strip() for i in metdt[1][len(\"key_topics:\"):].strip().split(',')]\n",
    "    del item['metadata']\n",
    "    \n",
    "for item in processed_reports:\n",
    "    \n",
    "    metdt = item['metadata'].split('\\n')\n",
    "\n",
    "    item['summary'] = metdt[0][len(\"summary:\"):].strip()\n",
    "    item['key_topics'] = [i.strip() for i in metdt[1][len(\"key_topics:\"):].strip().split(',')]\n",
    "    del item['metadata']\n",
    "\n",
    "    item['source'] = item['ticker'] + \" annual \" + item['source']\n",
    "    del item['ticker']\n",
    "\n",
    "\n",
    "all_data = processed_letters + processed_reports\n",
    "len(all_data)"
   ]
  },
  {
   "cell_type": "code",
   "execution_count": 5,
   "metadata": {},
   "outputs": [
    {
     "name": "stderr",
     "output_type": "stream",
     "text": [
      "/var/folders/8x/4tbqnfzd0tz4gn4chf6rr2ch0000gp/T/ipykernel_12574/3003952921.py:20: ElasticsearchWarning: Elasticsearch built-in security features are not enabled. Without authentication, your cluster could be accessible to anyone. See https://www.elastic.co/guide/en/elasticsearch/reference/7.17/security-minimal-setup.html to enable security.\n",
      "  bulk(es, generate_actions(all_data))\n"
     ]
    },
    {
     "data": {
      "text/plain": [
       "(1625, [])"
      ]
     },
     "execution_count": 5,
     "metadata": {},
     "output_type": "execute_result"
    }
   ],
   "source": [
    "from elasticsearch.helpers import bulk\n",
    "\n",
    "def generate_actions(data):\n",
    "    for item in data:\n",
    "        yield {\n",
    "            '_index': index_name,\n",
    "            '_id': item['chunk_id'],\n",
    "            '_source': {\n",
    "                'source': item['source'],\n",
    "                'year': item['year'],\n",
    "                'chunk_id': item['chunk_id'],\n",
    "                'content': item['content'],\n",
    "                'summary': item['summary'],\n",
    "                'key_topics': item['key_topics'],\n",
    "            }\n",
    "        }\n",
    "\n",
    "\n",
    "# Bulk index the data\n",
    "bulk(es, generate_actions(all_data))"
   ]
  },
  {
   "cell_type": "code",
   "execution_count": 6,
   "metadata": {},
   "outputs": [
    {
     "data": {
      "text/plain": [
       "{'mappings': {'properties': {'source': {'type': 'keyword'},\n",
       "   'year': {'type': 'keyword'},\n",
       "   'chunk_id': {'type': 'keyword'},\n",
       "   'content': {'type': 'text'},\n",
       "   'summary': {'type': 'text'},\n",
       "   'key_topics': {'type': 'text'}}}}"
      ]
     },
     "execution_count": 6,
     "metadata": {},
     "output_type": "execute_result"
    }
   ],
   "source": [
    "index_mapping                   "
   ]
  },
  {
   "cell_type": "code",
   "execution_count": 7,
   "metadata": {},
   "outputs": [],
   "source": [
    "\n",
    "def search_documents(query, index=index_name, top_k=5):\n",
    "    \"\"\"\n",
    "    Searches the Elasticsearch index for documents relevant to the query.\n",
    "\n",
    "    Parameters:\n",
    "    - query (str): The user's question or query.\n",
    "    - index (str): The name of the Elasticsearch index.\n",
    "    - top_k (int): Number of top documents to retrieve.\n",
    "\n",
    "    Returns:\n",
    "    - List of dictionaries containing the search results.\n",
    "    \"\"\"\n",
    "    search_body = {\n",
    "        'size': top_k,\n",
    "        'query': {\n",
    "            'multi_match': {\n",
    "                'query': query,\n",
    "                'fields': ['content', 'source', 'year', 'summary', 'key_topics'],\n",
    "                'fuzziness': 'AUTO'\n",
    "            }\n",
    "        },\n",
    "        '_source': ['source', 'year', 'chunk_id', 'content', 'summary', 'key_topics']\n",
    "    }\n",
    "\n",
    "    response = es.search(index=index, body=search_body)\n",
    "    hits = response['hits']['hits']\n",
    "    results = []\n",
    "    for hit in hits:\n",
    "        source = hit['_source']\n",
    "        results.append({\n",
    "            'source': source['source'],\n",
    "            'year': source.get('year', ''),\n",
    "            'chunk_id': source['chunk_id'],\n",
    "            'content': source['content'],\n",
    "            'summary': source.get('summary', ''),\n",
    "            'key_topics': source.get('key_topics', '')\n",
    "        })\n",
    "    return results\n"
   ]
  },
  {
   "cell_type": "code",
   "execution_count": 8,
   "metadata": {},
   "outputs": [
    {
     "name": "stderr",
     "output_type": "stream",
     "text": [
      "/var/folders/8x/4tbqnfzd0tz4gn4chf6rr2ch0000gp/T/ipykernel_12574/1910932479.py:25: ElasticsearchWarning: Elasticsearch built-in security features are not enabled. Without authentication, your cluster could be accessible to anyone. See https://www.elastic.co/guide/en/elasticsearch/reference/7.17/security-minimal-setup.html to enable security.\n",
      "  response = es.search(index=index, body=search_body)\n"
     ]
    },
    {
     "data": {
      "text/plain": [
       "[{'source': 'MOTHERSON annual report',\n",
       "  'year': '2023',\n",
       "  'chunk_id': 'MOTHERSON_2023_chunk_8',\n",
       "  'content': 'Three pillars of growth Customer trust is reflected in the highest-ever revenues that Motherson recorded in FY23 and its strong order book of approximately USD 70 billion. disclosed in March 2023, which provides visibility for the next 5-6 years. “When customers trust us, they give us more opportunities,” Sehgal says. “And we create these new solutions in three ways. Either we do it organically by ourselves, through a partnership or, if that is not possible, through an acquisition.” Organic growth comes in the form of more orders from OEMs across new car models and variants. It also means customers asking Motherson to enter new product segments. As per projected forecasts, automotive production growth in emerging countries is to be double that of developed markets. Emerging markets account for more than 50% of the group’s total revenues in work hard to ensure the companies are run sustainably by the local management and employees and achieve a 40% ROCE in 4-6 years.” Is the challenging business environment, with high interest rates, affecting the ability of Motherson to do acquisitions? “On the contrary,” Sehgal says. “Many companies have come under financial distress, also with the industry going through a consolidation phase due to the transition from ICE to EVs, there are many opportunities for us. In fact, given our track record of being a turnaround specialist and our strong balance sheet, customers see us as a preferred partner for acquisitions. There are many opportunities for us to look at distressed companies.” In FY23 alone, Motherson has announced a record six acquisitions, with a combined proforma of USD 4.9 billion in gross revenues and USD 1.1 billion in net revenues. This brings the total to 33 acquisitions since 2002. While these new companies vary in size, all of them are of strategic importance. “The full growth potential of these acquisitions will become clear in the coming times,” Sehgal says. “But thanks to our ability to scale, diversify, turnaround and enjoy integration synergies, we are confident that all these transactions will enhance cash earnings per share.” The company’s emerging verticals are also poised for growth. “It took us four decades to be a global automotive supplier,” Sehgal reflects. “But the knowledge, skill, access to resources and global relationships we developed in the process, now allow us to enter new industries and achieve a leadership position in a fraction of that time.”“Given our track record of being a turnaround specialist and our strong balance sheet, customers see us as a preferred partner for acquisitions.”D annual report 2022-2023 23chapter 5 motherson as a platform for growthAs customers entrust Motherson with more and more opportunities — which the company supports organically, through joint ventures or acquisitions — the content and value Motherson delivers to OEMs is increasing every year. 11. Diversified and powertrain agnostic portfolio This is reflected in the repertoire of solutions Motherson offers. “We have a diversified product portfolio in automotive and a growing portfolio in the new divisions,” Sehgal explains. This evolution is also reflected in how its divisions developed their global competences. The Wiring Harness division began by supplying to passenger vehicles, but today supports commercial vehicles, two-wheelers and rolling stock. Vision Systems started making simple mirrors and today is a global market leader, focussing on next generation products such as camera-based systems and the EcoMirror. The same is true for its diversification into new industries – Aerospace, Health & Medical, Logistics and IT. A large part of our product portfolio is powertrain agnostic. “Our portfolio is well-aligned with changing industry dynamics, as the world moves forward with electrification and lightweighting,” Sehgal says. “Around 20% of our USD 70 billion booked business is pure EV.” This percentage is likely to increase as the world moves towards a Carbon Net Zero society, with OEMs launching more EVs and FCEV based cars. The electrification trend could also strengthen the growth of content and value per car for Motherson. “Electric vehicles tend to be more feature-rich,” Sehgal clarifies, “as people want more screens and connectivity.” Consumer preference is also changing through an increased demand for SUVs and premiumisation, meaning that customers want more high-end and expensive features. “This helps our growth as well, as we are a bit more strongly present in these segments. Across all these areas, we focus on vertical integration to strengthen our control over quality and costs.” 12 . 3CX10 As part of Vision 2025, Motherson has set a goal of ‘3CX10’. “It means no Customer, Component, or Country should contribute more than 10% to our revenues,” Sehgal explains. “This reduces our risks. When one country has a slowdown, other markets are doing well.',\n",
       "  'summary': \"Motherson's growth driven by customer trust, acquisitions, and diversification in emerging markets.\",\n",
       "  'key_topics': ['revenue growth',\n",
       "   'acquisitions',\n",
       "   'diversification',\n",
       "   'electric vehicles',\n",
       "   'customer trust']},\n",
       " {'source': 'letter',\n",
       "  'year': '2007',\n",
       "  'chunk_id': '2007_chunk_3',\n",
       "  'content': 'I’m willing to bet, however, that Dennis – with the help of his partner, Dave Meleski – will build a large operation, earning good returns on capital employed. Businesses – The Great, the Good and the Gruesome Let’s take a look at what kind of businesses turn us on. And while we’re at it, let’s also discuss what we wish to avoid. Charlie and I look for companies that have a) a business we understand; b) favorable long-term economics; c) able and trustworthy management; and d) a sensible price tag. We like to buy the whole business or, if management is our partner, at least 80%. When control-type purchases of quality aren’t available, though, we are also happy to simply buy small portions of great businesses by way of stock-market purchases. It’s better to have a part interest in the Hope Diamond than to own all of a rhinestone. A truly great business must have an enduring “moat” that protects excellent returns on invested capital. The dynamics of capitalism guarantee that competitors will repeatedly assault any business “castle” that is earning high returns. Therefore a formidable barrier such as a company’s being the low- cost producer (GEICO, Costco) or possessing a powerf ul world-wide brand (Coca-Cola, Gillette, American Express) is essential for sustained success. Business history is filled with “Roman Candles,” companies whose moats proved illusory and were soon crossed. Our criterion of “enduring” causes us to rule out companies in industries prone to rapid and continuous change. Though capitalism’s “creative destru ction” is highly beneficial for society, it precludes investment certainty. A moat that must be continuously rebuilt will eventually be no moat at all. Additionally, this criterion eliminates the business whose success depends on having a great manager. Of course, a terrific CEO is a huge asset for any enterprise, and at Berkshire we have an abundance of these managers. Their abilities have created billions of dollars of value that would never have materialized if typical CEOs had been running their businesses. But if a business requires a superstar to produce great results, the business itself cannot be deemed great. A medical partnership led by your area’s premier brain surgeon may enjoy outsized and growing earnings, but that tells little about its future. The pa rtnership’s moat will go when the surgeon goes. You can count, though, on the moat of the Mayo Clinic to endure, even though you can’t name its CEO. 6 Long-term competitive advantage in a stable industry is what we seek in a business. If that comes with rapid organic growth, great. But even without organic growth, such a business is rewarding. We will simply take the lush earnings of the business and use th em to buy similar businesses elsewhere. There’s no rule that you have to invest money where you’ve earned it. Indeed, it’s often a mistake to do so: Truly great businesses, earning huge returns on tangible assets, can’t for any extended period reinvest a large portion of their earnings internally at high rates of return. Let’s look at the prototype of a dream busine ss, our own See’s Candy. The boxed-chocolates industry in which it operates is unexciting: Per-capita consumption in the U.S. is extremely low and doesn’t grow. Many once-important brands have disappeared, and only three companies have earned more than token profits over the last forty years. Indeed, I believe that See’s, though it obtains the bulk of its revenues from only a few states, accounts for nearly half of the entire industry’s earnings. At See’s, annual sales were 16 million pounds of candy when Blue Chip Stamps purchased the company in 1972. (Charlie and I controlled Blue Chip at the time and later merged it into Berkshire.) Last year See’s sold 31 million pounds, a growth rate of only 2% annually. Yet its durable competitive advantage, built by the See’s family over a 50-year period, and strengthened subsequently by Chuck Huggins and Brad Kinstler, has produced extraordinary results for Berkshire. We bought See’s for $25 million when its sales were $30 million and pre-tax earnings were less than $5 million. The capital then required to conduct the business was $8 million. (Modest seasonal debt was also needed for a few months each year.) Co nsequently, the company was earning 60% pre-tax on invested capital. Two factors helped to minimize the funds required for operations. First, the product was sold for cash, and that eliminated accounts receivable. Second, the production and distribution cycle was short, which minimized inventories. Last year See’s sales were $383 million, and pre-tax profits were $82 million. The capital now required to run the business is $40 million.',\n",
       "  'summary': 'Buffett emphasizes investing in businesses with a durable competitive advantage and strong management.',\n",
       "  'key_topics': ['investment philosophy',\n",
       "   'competitive advantage',\n",
       "   'management quality',\n",
       "   'long-term economics',\n",
       "   'business evaluation']},\n",
       " {'source': 'letter',\n",
       "  'year': '2014',\n",
       "  'chunk_id': '2014_chunk_25',\n",
       "  'content': '‹Investments will always be of great importance to Berkshire and will be handled by several specialists.They will report to the CEO because their investment decisions, in a broad way, will need to becoordinated with Berkshire’s operating and acquisition programs. Overall, though, our investmentmanagers will enjoy great autonomy. In this area, too, we are in fine shape for decades to come. ToddCombs and Ted Weschler, each of whom has spent several years on Berkshire’s investment team, are first-rate in all respects and can be of particular help to the CEO in evaluating acquisitions.All told, Berkshire is ideally positioned for life after Charlie and I leave the scene. We have the rightpeople in place – the right directors, managers and prospective successors to those managers. Our culture,furthermore, is embedded throughout their ranks. Our system is also regenerative. To a large degree, bothgood and bad cultures self-select to perpetuate themselves. For very good reasons, business owners andoperating managers with values similar to ours will continue to be attracted to Berkshire as a one-of-a-kindandpermanenthome.37‹I would be remiss if I didn’t salute another key constituency that makes Berkshire special: our shareholders.Berkshire truly has an owner base unlike that of any other giant corporation. That fact was demonstrated inspades at last year’s annual meeting, where the shareholders were offered a proxy resolution:RESOLVED: Whereas the corporation has more money than it needs and since the owners unlikeWarren are not multi billionaires, the board shall consider paying a meaningful annual dividend onthe shares.The sponsoring shareholder of that resolution never showed up at the meeting, so his motion was notofficially proposed. Nevertheless, the proxy votes had been tallied, and they were enlightening.Not surprisingly, the A shares – owned by relatively few shareholders, each with a large economic interest– voted “no” on the dividend question by a margin of 89 to 1.The remarkable vote was that of our B shareholders. They number in the hundreds of thousands – perhapseven totaling one million – and they voted 660,759,855 “no” and 13,927,026 “yes,” a ratio of about 47 to 1.Our directors recommended a “no” vote but the company did not otherwise attempt to influenceshareholders. Nevertheless, 98% of the shares voting said, in effect, “Don’t send us a dividend but insteadreinvest all of the earnings.” To have our fellow owners – large and small – be so in sync with ourmanagerial philosophy is both remarkable and rewarding.I am a lucky fellow to have you as partners.Warren E. Buffett 38Vice Chairman’s Thoughts – Past and FutureTo the shareholders of Berkshire Hathaway Inc.:I closely watched the 50-year history of Berkshire’s uncommon success under Warren Buffett. And it now seemsappropriate that I independently supplement whatever celebratory comment comes from him. I will try to do fivethings. (1) Describe the management system and policies that caused a small and unfixably-doomed commoditytextile business to morph into the mighty Berkshire that now exists,(2) Explain how the management system and policies came into being,(3) Explain, to some extent, why Berkshire did so well,(4) Predict whether abnormally good results would continue if Buffett were soon to depart, and(5) Consider whether Berkshire’s great results over the last 50 years have implications that may prove usefulelsewhere.The management system and policies of Berkshire under Buffett (herein together called “the Berkshire system”)were fixed early and are described below:(1) Berkshire would be a diffuse conglomerate, averse only to activities about which it could not make usefulpredictions. (2) Its top company would do almost all business through separately incorporated subsidiaries whose CEOswould operate with very extreme autonomy. (3) There would be almost nothing at conglomerate headquarters except a tiny office suite containing aChairman, a CFO, and a few assistants who mostly helped the CFO with auditing, internal control, etc. (4) Berkshire subsidiaries would always prominently include casualty insurers. Those insurers as a groupwould be expected to produce, in due course, dependable underwriting gains while also producingsubstantial “float” (from unpaid insurance liabilities) for investment. (5) There would be no significant system-wide personnel system, stock option system, other incentive system,retirement system, or the like, because the subsidiaries would have their own systems, often different. (6) Berkshire’s Chairman would reserve only a few activities for himself. (i) He would manage almost all security investments, with these normally residing in Berkshire’scasualty insurers. (ii) He would choose all CEOs of important subsidiaries, and he would fix their compensation andobtain from each a private recommendation for a successor in case one was suddenly needed. (iii) He would deploy most cash not needed in subsidiaries after they had increased their competitiveadvantage, with the ideal deployment being the use of that cash to acquire new subsidiaries. (iv) He would make himself promptly available for almost any contact wanted by any subsidiary’sCEO, and he would require almost no additional contact.',\n",
       "  'summary': \"Berkshire's investment strategy ensures continuity and alignment with shareholder values.\",\n",
       "  'key_topics': ['investment management',\n",
       "   'shareholder engagement',\n",
       "   'company culture',\n",
       "   'succession planning',\n",
       "   'operational autonomy']},\n",
       " {'source': 'letter',\n",
       "  'year': '1997',\n",
       "  'chunk_id': '1997_chunk_15',\n",
       "  'content': 'Come to Omaha -- the cradle of capitalism -- in May and enjoy yourself. Warren E. Buffett February 27, 1998 Chairman of the Board',\n",
       "  'summary': 'Invitation to Omaha, emphasizing its significance in capitalism.',\n",
       "  'key_topics': ['Invitation',\n",
       "   'Omaha',\n",
       "   'capitalism',\n",
       "   'Warren Buffett',\n",
       "   'shareholder engagement']},\n",
       " {'source': 'letter',\n",
       "  'year': '1996',\n",
       "  'chunk_id': '1996_chunk_9',\n",
       "  'content': 'When carried out capably, an investment strategy of that type will often result in its practitioner owning a few securities that will come to represent a very large portion of his portfolio. This investor would get a similar result if he followed a policy of purchasing an interest in, say, 20% of the future earnings of a number of outstanding college basketball stars. A handful of these would go on to achieve NBA stardom, and the investor\\'s take from them would soon dominate his royalty stream. To suggest that this investor should sell off portions of his most successful investments simply because they have come to dominate his portfolio is akin to suggesting that the Bulls trade Michael Jordan because he has become so important to the team. In studying the investments we have made in both subsidiary companies and common stocks, you will see that we favor businesses and industries unlikely to experience major change. The reason for that is simple: Making either type of purchase, we are searching for operations that we believe are virtually certain to possess enormous competitive strength ten or twenty years from now. A fast-changing industry environment may offer the chance for huge wins, but it precludes the certainty we seek. I should emphasize that, as citizens, Charlie and I welcome change: Fresh ideas, new products, innovative processes and the like cause our country\\'s standard of living to rise, and that\\'s clearly good. As investors, however, our reaction to a fermenting industry is much like our attitude toward space exploration: We applaud the endeavor but prefer to skip the ride. Obviously all businesses change to some extent. Today, See\\'s is different in many ways from what it was in 1972 when we bought it: It offers a different assortment of candy, employs different machinery and sells through different distribution channels. But the reasons why people today buy boxed chocolates, and why they buy them from us rather than from someone else, are virtually unchanged from what they were in the 1920s when the See family was building the business. Moreover, these motivations are not likely to change over the next 20 years, or even 50. We look for similar predictability in marketable securities. Take Coca-Cola: The zeal and imagination with which Coke products are sold has burgeoned under Roberto Goizueta, who has done an absolutely incredible job in creating value for his shareholders. Aided by Don Keough and Doug Ivester, Roberto has rethought and improved every aspect of the company. But the fundamentals of the business - the qualities that underlie Coke\\'s competitive dominance and stunning economics - have remained constant through the years. I was recently studying the 1896 report of Coke (and you think that you are behind in your reading!). At that time Coke, though it was already the leading soft drink, had been around for only a decade. But its blueprint for the next 100 years was already drawn. Reporting sales of $148,000 that year, Asa Candler, the company\\'s president, said: \"We have not lagged in our efforts to go into all the world teaching that Coca-Cola is the article, par excellence, for the health and good feeling of all people.\" Though \"health\" may have been a reach, I love the fact that Coke still relies on Candler\\'s basic theme today - a century later. Candler went on to say, just as Roberto could now, \"No article of like character has ever so firmly entrenched itself in public favor.\" Sales of syrup that year, incidentally, were 116,492 gallons versus about 3.2 billion in 1996. I can\\'t resist one more Candler quote: \"Beginning this year about March 1st . . . we employed ten traveling salesmen by means of which, with systematic correspondence from the office, we covered almost the territory of the Union.\" That\\'s my kind of sales force. Companies such as Coca-Cola and Gillette might well be labeled \"The Inevitables.\" Forecasters may differ a bit in their predictions of exactly how much soft drink or shaving-equipment business these companies will be doing in ten or twenty years. Nor is our talk of inevitability meant to play down the vital work that these companies must continue to carry out, in such areas as manufacturing, distribution, packaging and product innovation. In the end, however, no sensible observer - not even these companies\\' most vigorous competitors, assuming they are assessing the matter honestly - questions that Coke and Gillette will dominate their fields worldwide for an investment lifetime. Indeed, their dominance will probably strengthen. Both companies have significantly expanded their already huge shares of market during the past ten years, and all signs point to their repeating that performance in the next decade.',\n",
       "  'summary': 'Successful investments focus on a few strong companies with enduring competitive advantages.',\n",
       "  'key_topics': ['investment strategy',\n",
       "   'competitive strength',\n",
       "   'market predictability',\n",
       "   'enduring businesses',\n",
       "   'long-term value']},\n",
       " {'source': 'letter',\n",
       "  'year': '2010',\n",
       "  'chunk_id': '2010_chunk_8',\n",
       "  'content': 'Our businesses related to home construction, however, continue to struggle.Johns Manville, MiTek, Shaw and Acme Brick have maintained their competitive positions, but their profits arefar below the levels of a few years ago. Combined, these operations earned $362 million pre-tax in 2010compared to $1.3 billion in 2006, and their employment has fallen by about 9,400.A housing recovery will probably begin within a year or so. In any event, it is certain to occur at somepoint. Consequently: (1) At MiTek, we have made, or committed to, five bolt-on acquisitions during the pasteleven months; (2) At Acme, we just recently acquired the leading manufacturer of brick in Alabama for$50 million; (3) Johns Manville is building a $55 million roofing membrane plant in Ohio, to be completed nextyear; and (4) Shaw will spend $200 million in 2011 on plant and equipment, all of it situated in America. Thesebusinesses entered the recession strong and will exit it stronger. At Berkshire, our time horizon is forever.Regulated, Capital-Intensive BusinessesWe have two very large businesses, BNSF and MidAmerican Energy, with important commoncharacteristics that distinguish them from our many others. Consequently, we give them their own sector in thisletter and split out their financial statistics in our GAAP balance sheet and income statement.A key characteristic of both companies is the huge investment they have in very long-lived, regulatedassets, with these funded by large amounts of long-term debt that is notguaranteed by Berkshire. Our credit is not needed: Both businesses have earning power that, even under very adverse business conditions, amply coverstheir interest requirements. For example, in recessionary 2010 with BNSF’s car loadings far off peak levels, thecompany’s interest coverage was 6:1.Both companies are heavily regulated, and both will have a never-ending need to make majorinvestments in plant and equipment. Both also need to provide efficient, customer-satisfying service to earn therespect of their communities and regulators. In return, both need to be assured that they will be allowed to earnreasonable earnings on future capital investments.Earlier I explained just how important railroads are to our country’s future. Rail moves 42% ofAmerica’s inter-city freight, measured by ton-miles, and BNSF moves more than any other railroad – about 28%of the industry total. A little math will tell you that more than 11% of allinter-city ton-miles of freight in the U.S. is transported by BNSF. Given the shift of population to the West, our share may well inch higher.All of this adds up to a huge responsibility. We are a major and essential part of the Americaneconomy’s circulatory system, obliged to constantly maintain and improve our 23,000 miles of track along withits ancillary bridges, tunnels, engines and cars. In carrying out this job, we must anticipate society’s needs, notmerely react to them. Fulfilling our societal obligation, we will regularly spend far more than our depreciation,with this excess amounting to $2 billion in 2011. I’m confident we will earn appropriate returns on our hugeincremental investments. Wise regulation and wise investment are two sides of the same coin.At MidAmerican, we participate in a similar “social compact.” We are expected to put up ever-increasing sums to satisfy the future needs of our customers. If we meanwhile operate reliably and efficiently, weknow that we will obtain a fair return on these investments. 14MidAmerican supplies 2.4 million customers in the U.S. with electricity, operating as the largestsupplier in Iowa, Wyoming and Utah and as an important provider in other states as well. Our pipelines transport8% of the country’s natural gas. Obviously, many millions of Americans depend on us every day.MidAmerican has delivered outstanding results for both its owners (Berkshire’s interest is 89.8%) and itscustomers. Shortly after MidAmerican purchased Northern Natural Gas pipeline in 2002, that company’sperformance as a pipeline was rated dead last, 43 out of 43, by the leading authority in the field. In the most recentreport published, Northern Natural was ranked second. The top spot was held by our other pipeline, Kern River.In its electric business, MidAmerican has a comparable record. Iowa rates have not increased since wepurchased our operation there in 1999. During the same period, the other major electric utility in the state hasraised prices more than 70% and now has rates far above ours. In certain metropolitan areas in which the twoutilities operate side by side, electric bills of our customers run far below those of their neighbors. I am told thatcomparable houses sell at higher prices in these cities if they are located in our service area.MidAmerican will have 2,909 megawatts of wind generation in operation by the end of 2011, morethan any other regulated electric utility in the country. The total amount that MidAmerican has invested orcommitted to wind is a staggering $5.4 billion.',\n",
       "  'summary': 'Home construction struggles, but investments in regulated businesses and acquisitions position for future growth.',\n",
       "  'key_topics': ['home construction',\n",
       "   'acquisitions',\n",
       "   'regulated businesses',\n",
       "   'investment strategy',\n",
       "   'economic outlook']},\n",
       " {'source': 'letter',\n",
       "  'year': '1995',\n",
       "  'chunk_id': '1995_chunk_4',\n",
       "  'content': 'But I was then a skinny, unpolished 20-year-old who looked about 17, and my pitch usually failed. Undaunted, I wrote a short report late in 1951 about GEICO for \"The Security I Like Best\" column in The Commercial and Financial Chronicle, a leading financial publication of the time. More important, I bought stock for my own account. You may think this odd, but I have kept copies of every tax return I filed, starting with the return for 1944. Checking back, I find that I purchased GEICO shares on four occasions during 1951, the last purchase being made on September 26. This pattern of persistence suggests to me that my tendency toward self-intoxication was developed early. I probably came back on that September day from unsuccessfully trying to sell some prospect and decided - despite my already having more than 50% of my net worth in GEICO - to load up further. In any event, I accumulated 350 shares of GEICO during the year, at a cost of $10,282. At yearend, this holding was worth $13,125, more than 65% of my net worth. You can see why GEICO was my first business love. Furthermore, just to complete this stroll down memory lane, I should add that I earned most of the funds I used to buy GEICO shares by delivering The Washington Post, the chief product of a company that much later made it possible for Berkshire to turn $10 million into $500 million. Alas, I sold my entire GEICO position in 1952 for $15,259, primarily to switch into Western Insurance Securities. This act of infidelity can partially be excused by the fact that Western was selling for slightly more than one times its current earnings, a p/e ratio that for some reason caught my eye. But in the next 20 years, the GEICO stock I sold grew in value to about $1.3 million, which taught me a lesson about the inadvisability of selling a stake in an identifiably-wonderful company. In the early 1970\\'s, after Davy retired, the executives running GEICO made some serious errors in estimating their claims costs, a mistake that led the company to underprice its policies - and that almost caused it to go bankrupt. The company was saved only because Jack Byrne came in as CEO in 1976 and took drastic remedial measures. Because I believed both in Jack and in GEICO\\'s fundamental competitive strength, Berkshire purchased a large interest in the company during the second half of 1976, and also made smaller purchases later. By yearend 1980, we had put $45.7 million into GEICO and owned 33.3% of its shares. During the next 15 years, we did not make further purchases. Our interest in the company, nonetheless, grew to about 50% because it was a big repurchaser of its own shares. Then, in 1995, we agreed to pay $2.3 billion for the half of the company we didn\\'t own. That is a steep price. But it gives us full ownership of a growing enterprise whose business remains exceptional for precisely the same reasons that prevailed in 1951. In addition, GEICO has two extraordinary managers: Tony Nicely, who runs the insurance side of the operation, and Lou Simpson, who runs investments. Tony, 52, has been with GEICO for 34 years. There\\'s no one I would rather have managing GEICO\\'s insurance operation. He has brains, energy, integrity and focus. If we\\'re lucky, he\\'ll stay another 34 years. Lou runs investments just as ably. Between 1980 and 1995, the equities under Lou\\'s management returned an average of 22.8% annually vs. 15.7% for the S&P. Lou takes the same conservative, concentrated approach to investments that we do at Berkshire, and it is an enormous plus for us to have him on board. One point that goes beyond Lou\\'s GEICO work: His presence on the scene assures us that Berkshire would have an extraordinary professional immediately available to handle its investments if something were to happen to Charlie and me. GEICO, of course, must continue both to attract good policyholders and keep them happy. It must also reserve and price properly. But the ultimate key to the company\\'s success is its rock-bottom operating costs, which virtually no competitor can match. In 1995, moreover, Tony and his management team pushed underwriting and loss adjustment expenses down further to 23.6% of premiums, nearly one percentage point below 1994\\'s ratio. In business, I look for economic castles protected by unbreachable \"moats.\" Thanks to Tony and his management team, GEICO\\'s moat widened in 1995. Finally, let me bring you up to date on Davy. He\\'s now 93 and remains my friend and teacher. He continues to pay close attention to GEICO and has always been there when the company\\'s CEOs - Jack Byrne, Bill Snyder and Tony - have needed him.',\n",
       "  'summary': 'Buffett reflects on his early investment in GEICO and its lasting impact.',\n",
       "  'key_topics': ['GEICO investment',\n",
       "   'persistence',\n",
       "   'management quality',\n",
       "   'economic moats',\n",
       "   'lessons learned.']},\n",
       " {'source': 'AMARAJABAT annual report',\n",
       "  'year': '2023',\n",
       "  'chunk_id': 'AMARAJABAT_2023_chunk_123',\n",
       "  'content': 'There are no loans/guarantees issued under Section 186 of the Companies Act, 2013 read with rules issued thereunder.250 AMARA RAJA BATTERIES LIMITED ANNUAL REPORT 2022-23BROADENING OUR HORIZONSNotes to the Standalone Financial Statements for the year ended March 31, 2023 All amounts are in H crores, except share data and where otherwise statedNote 41: Details of expenditure incurred on research and development ParticularsFor the year ended March 31, 2023For the year ended March 31, 2022 Revenue expenditure: (a) C ost of materials consumed 0.79 0.88 (b) C onsumption of stores and spares (including secondary packing material) 0.47 0.36 (c) Emplo yee benefits expense 8.96 8.10 (d) P ower and fuel 0.96 0.78 (e) Others 0.94 0.72 Total Revenue expenditure [A] 12.12 10.84 Capital expenditure [B] 5.05 4.95 Total [A+B] 17.17 15.79 Note 42: Details of Provisions (a) P rovision for warranty is made for estimated warranty claims in respect of sale of certain storage batteries which are still under warranty at the end of the reporting period, the estimated cost of which is accrued at the time of sale. These claims are expected to be settled as and when warranty claims arise. The provision for warranty claims represents the present value of the Management’s best estimate of the future outflow of economic benefits that will be required under the Company’s obligation for warranties. Management estimates the provision based on historical warranty claim information and may vary as a result of new materials, altered manufacturing processes or other events affecting product quality. The products are generally covered under a free warranty period ranging from 6 months to 42 months. (b) T he disclosure of provisions movement as required under the provisions of Ind AS 37 is as follows:- For the year ended March 31, 2023For the year ended March 31, 2022 Balance as at April 1 219.87 186.05 Additional provisions recognised 192.04 156.91 Amount utilised / reversed during the year (167.90) (131.45) Unwinding of discount and effect of changes in the discount rate 13.28 8.36 Reclassified as held for sale (11.87) - Balance as at March 31 245.42 219.87 Out of the above, Classified under Non-current provisions (Refer Note 16) 109.49 87.99 Classified under Current provisions (Refer Note 16) 135.93 131.88 Note 43: Financial instruments and related disclosures A. C apital Management The Company’s financial strategy aims to support its strategic priorities and provide adequate capital to its businesses for growth and creation of sustainable stakeholder value. The Company funds its operations through internal accruals. The Company aims at maintaining a strong capital base largely towards supporting the future growth of its businesses as a going concern. The capital structure of the Company is based on Management’s judgment of its strategic day-to-day needs with a focus on total equity so as to maintain investor, creditors and market confidence. The Management and the Board of Directors monitor the return on capital as well as the level of dividends to shareholders. The Company may take appropriate steps in order to maintain, or if necessary, adjust its capital structure. Equity share capital and other equity are considered for the purpose of Company’s Capital Management.AMARA RAJA BATTERIES LIMITED ANNUAL REPORT 2022-23251 CORPORATE OVERVIEWSTATUTORY REPORTSFINANCIAL STATEMENTS Notes to the Standalone Financial Statements for the year ended March 31, 2023 All amounts are in H crores, except share data and where otherwise statedB. C ategories of Financial Instruments Particulars Carrying value Fair value As at March 31, 2023As at March 31, 2022As at March 31, 2023As at March 31, 2022 Financial assets Measured at amortised cost(i) C ash and cash equivalents 89.44 34.31 89.44 34.31 (ii) O ther bank balances 10.39 19.26 10.39 19.26 (iii) T rade receivables 779.67 792.56 779.67 792.56 (iv) O ther financial assets 429.45 24.98 429.45 24.98 (v) I nvestments 0.01 0.01 0.01 0.01 (vi) Loans 88.71 - 88.71 - Measured at cost(i) I nvestment in subsidiary 200.57 0.57 200.57 0.57 Measured at FVTOCI(i) I nvestment in equity instruments 52.20 10.95 52.20 10.95 (ii) I nvestment in preference shares 209.46 31.52 209.46 31.52 Measured at FVTPLMandatorily measured:Current investment- Mutual funds 23.77 34.73 23.77 34.73 Total Financial assets 1,883.67 948.89 1,883.67 948.89 Financial liabilitiesMeasured at amortised cost(i) B orrowings 16.52 23.39 16.52 23.39 (ii) T rade payables 750.75 806.45 750.75 806.45 (iii) O ther financial liabilities 245.10 298.78 245.10 298.78 (iv) L ease Liabilities 90.29 102.50 90.29 102.50 Total Financial liabilities 1,102.66 1,231.12 1,102.66 1,231.12 C. F inancial risk management objectives The Company has a system-based approach to risk management, anchored to policies and procedures and internal financial controls aimed at ensuring early identification, evaluation and management of key financial risks (such as market risk, foreign currency risk, credit risk and liquidity risk) that may arise as a consequence of its business operations as well as its investing and financing activities.',\n",
       "  'summary': 'No loans issued; financial management focuses on growth, provisions, and risk management.',\n",
       "  'key_topics': ['financial statements',\n",
       "   'provisions for warranties',\n",
       "   'capital management',\n",
       "   'financial risk management',\n",
       "   'research and development expenditure.']},\n",
       " {'source': 'MOTHERSON annual report',\n",
       "  'year': '2023',\n",
       "  'chunk_id': 'MOTHERSON_2023_chunk_43',\n",
       "  'content': 'In this endeavor to achieve Vision 2025, we continue to follow our Prudent Financial Policies • Leverage: Net Debt to EBITDA ratio to be maintained below 2.5x on a sustainable basis (~12 Months) • Liquidity: Maintain diversified sources of funding with a large portion of long-term facilities. Cash and committed undrawn facilities to be at more than 15 days of sales. • M&A: Robust evaluation framework for strategic fit and internal investment thresholds. Synergies such as vertical integration, access to technology, process and best practices form key metrics in our selection process. We aspire to achieve a steady state ROCE of 40% in all investments. SAMIL Automotive Booked Business Our complete automotive gross booked business8 7 Booked business is computed as the sum of lifetime sales of business under production and yet to start production 8 EV sales include only pure EV programs and not electric versions of multi powertrain vehicles and is calculated based on EV sales of wiring harness, module and polymer products and Vision systems business divisions divided by total gross revenuesis approx. USD 69.1 Bn as on 31st March 2023. This comprises booked business of Wiring Harness, Modules & Polymer, Vision Systems, Lighting & Electronics, Precision Metals & Modules and Elastomers divisions. 20% of the booked business is towards Electric Vehicles “EV”9 platforms. The booked business consists of both Passenger and Commercial vehicles, with an average life of five to six years providing a good run rate visibility on future revenues. M&A M&A is a key pillar of our growth strategy. The high interest rate and challenging business environment has resulted in many opportunities with customers looking for strong and healthy partners to support their supply chain. Most of our acquisitions are at customers behest and their support. In FY2022-23 the Company announced 6 transactions, the full growth potential of which will be unlocked in the near future. The combined gross revenue of announced transactions is approx. USD 4.9 Bn (Gross10) and USD 1.1 Bn (Net) with approximately 40 facilities and 8,000 employees. The company has also announced 5 strategic transactions up till 15th July 2023, the combined revenue of approx. 900 Mn USD. • YMAT is a Joint venture company with Youngshin Components Co. Ltd Korea engaged in manufacturing and assembly of auto clutch products, SAMIL has increased its stake from 50% to 80% basis which full benefits of future growth will accrue to the company. Transaction was closed in June 2023. • Cirma is engaged in manufacturing and sale of Electrical Wiring & Interconnect Systems (EWIS) for aerospace, shipbuilding and allied Industries based out of France. SAMIL has acquired 100% stake in Cirma, the transaction is expected to be completed by Q3FY24. • Yachiyo is engaged in manufacturing of Sunroofs, Plastic Fuel Tanks and Resin products. SAMIL has entered into an agreement and strategic partnership with Honda Motor to acquire 81% stake in Yachiyo 4W Business. Transaction is expected to be completed by Q1FY25. 9 SAS performs the assembly of highly customized components by procuring various parts from suppliers identified by the customers. It acts as an agent as per IFRS-15, under these contracts and as required under the standard, it recognizes revenue only for the net amount it retains for the assembly services. 10 Total revenue considered is including 100% of joint venture and associate companies consolidated under equity method.130 Samvardhana Motherson International Limited• Prysm is engaged in design development, manufacturing and sale of large format touch enabled display screens with embedded collaborative software developing Gen-3 prototype. Upon successful delivery of Gen-3 prototype as per agreed specification and associated conditions, which is expected by Q4FY24, the Company would furtherinvest USD 20 Million and convert secured note to equity for majority stake i.e., not less than 72% on a fully dilutedbasis. • Roll-on Hydraulics is engaged in the manufacturing, sub-assembly and supply of high precision turned parts, spools, and other machined components with critical engineering applications. The company has acquired 100%stake in Roll-On Hydraulics, the transaction is expected to close by Q2FY24. Diversification with 3CX10 Our core strategy of 3CX10, where in no country, customer or component should contribute more than 10% of our consolidated revenues enables us to de-risk the business and demonstrate resilient performance. We have successfully achieved 3CX10 on the customer side. We are continuously working on further diversifying our component and geographic mix. Charts below presents the 3CX10 11,12,13 performance for the financial year 22-23 * Under Modules and Polymer Products business divisionEqual Exposure to Developed & Emerging MarketsSAMIL follows a globally local strategy with the ability to manufacture and supply to customers in the same region.',\n",
       "  'summary': 'Company aims for Vision 2025 through prudent financial policies and strategic M&A.',\n",
       "  'key_topics': ['Vision 2025',\n",
       "   'financial policies',\n",
       "   'M&A strategy',\n",
       "   'electric vehicles',\n",
       "   'diversification.']},\n",
       " {'source': 'MOTHERSON annual report',\n",
       "  'year': '2023',\n",
       "  'chunk_id': 'MOTHERSON_2023_chunk_36',\n",
       "  'content': 'The acquisition is expected to be completed by December 2023 following the completion of the consultation process with representatives for the employees in France and the fulfilment of all conditions of the agreement. The road ahead The Aerospace division is expanding, strengthened by the many benefits that the Motherson platform offers, especially in the area of management and the ability to form partnerships and do acquisitions. The post-COVID recovery of the aerospace industry suggests a promising future for the division. We are well-positioned to respond to both the current build rates for commercial aircraft as well as the anticipated increase in demand. Key expansions in our product portfolio and capabilities, such as our entry into EWIS through the acquisition of Cirma Enterprise, allow us to offer a broader range of solutions to our customers, which helps us better support them in meeting their goals. We have our sights firmly fixed not only on our Vision 2025 targets but also on the path beyond, and our strategy going forward is twofold: to answer the demands of the present by drawing on our manifold resources while anticipating the needs of the future using the spirit of innovation that is embedded in our DNA. Thus, we will continually look for new opportunities to expand our product offerings and services in order to further secure our position as a globally preferred sustainable solutions provider in the aerospace industry. processes approved by all major aerospace OEMs. These certifi ca tions allow Motherson to serve as a one- stop solutions shop for customers seeking metallic components. Additionally, we are undergoing qualification from a leading aircraft OEM for injection-moulded parts through the Motherson facility in Noida, and we anticipate joining their suppliers’ panel soon. Inorganic growth As part of our growth strategy, we continually evaluate opportunities for strategic partnerships and acqui sitions that will increase our footprint, enhance our capabilities, and further consolidate our market position. In the initial phase, Motherson acquired a 55% stake in CIM Tools Pvt. Ltd., a leading aerospace machining company in India that supplies to major OEMs and Primes. CIM Tools produces detailed, structural machined parts for aircraft doors, wings, tail, and fuselage. The pedigree of both partners — CIM Tools, with its 25 years in the industry, and Motherson, with its decades of experience in the automotive sector — will serve as a strong platform from which we can address a larger global market and spur future growth. Furthermore, we have recently announced the acquisition of Cirma Enterprise, a France-based company engaged in manufacturing electrical wiring and interconnect systems (EWIS) for aerospace, shipbuilding, and allied industries, an important diversification to our product portfolio. This expansion aligns annual report 2022-2023 111chapter 17 emerging businessesThe Logistics Solutions division of Motherson is responsible for providing end-to-end logistics services for finished vehicles (FV) in India for external customers and fourth-party logistics (4PL) solutions primarily for all Motherson companies. The division consists of two companies, Samvardhana Motherson Global Carriers Limited (SMGCL) and Samvardhana Motherson Hamakyorex Engineered Logistics Limited (SAMRX). The division endeavours to become the preferred provider of socially and environmentally conscious logistics solutions, focussing on safety and data-driven decision-making. With a focus on structuring the logistics industry in India and improving the customer and driver experience, the Logistics Solutions division operates a technologically advanced trucking fleet. These telematics-enabled trucks with advanced sensors monitor everything from the fuel and tyres to drivers’ driving behaviour and ensure the safe and optimum use of resources. Our fleet features comfortable, air-conditioned cabins and large carrying capacities making them highly efficient for transporting finished vehicles and providing secure and faster delivery options to our customers. Despite the ongoing turbulence in the global market, the Logistics Solutions division has performed well in the past fiscal year. The division has achieved revenue growth and expanded its customer base. It has also invested in recruiting highly trained individuals to bolster its workforce. The company focusses on establishing a pool of well-trained and skilled drivers, aiming to meet the growing demand for proficient drivers in the country.Let’s take a look at some of these developments in more detail. Organic growth During the fiscal year 2022-23, Motherson’s Logistics Solutions division experienced organic growth in various aspects of its operations. SAMRX, one of the company in the division, expanded its fleet by adding 90 new trailers, bringing the total to 140 trailers. This fleet serves customers across India (serving the top five major customers/OEMs) and facilitates the delivery of nearly 4,000 vehicles monthly. In addition to FV transportation, the division added FV storage and spare parts warehousing to its portfolio to further consolidate its market position as a comprehensive automotive logistics solutions provider. We have added FV storage and spare parts warehousing services to our portfolio to further consolidate our market position.',\n",
       "  'summary': 'Aerospace division expanding through acquisitions and partnerships, focusing on innovation and market growth.',\n",
       "  'key_topics': ['acquisition strategy',\n",
       "   'aerospace industry recovery',\n",
       "   'product portfolio expansion',\n",
       "   'logistics solutions growth',\n",
       "   'market positioning.']}]"
      ]
     },
     "execution_count": 8,
     "metadata": {},
     "output_type": "execute_result"
    }
   ],
   "source": [
    "query = \"Explain Warren Buffett's investment strategy focusing on companies with strong moats.\" #\"What is Warren Buffett's future outlook in terms of investing as per the letters after year 2020 ?\"\n",
    "\n",
    "res = search_documents(query, index=index_name, top_k=10)\n",
    "res"
   ]
  },
  {
   "cell_type": "code",
   "execution_count": 9,
   "metadata": {},
   "outputs": [],
   "source": [
    "def build_prompt(query, search_results):\n",
    "    \"\"\"\n",
    "    Builds a prompt for the LLM using the query and search results.\n",
    "\n",
    "    Parameters:\n",
    "    - query (str): The user's question or query.\n",
    "    - search_results (list): List of retrieved documents.\n",
    "    \n",
    "    Returns:\n",
    "    - The formatted prompt string.\n",
    "    \"\"\"\n",
    "    # Instruction to the LLM\n",
    "    instruction = (\n",
    "        \"You are a financial analyst assistant with deep knowledge of Warren Buffett's investment principles. \"\n",
    "        \"Using the provided context, answer the user's question. \"\n",
    "        \"Use only the facts from the context when answering the question.\"\n",
    "        \"If the context is insufficient, let the user know. \"\n",
    "        \"Provide clear, concise explanations, and include relevant insights from Warren Buffett's letters or the company's annual reports.\\n\\n\"\n",
    "    )\n",
    "\n",
    "    # Build context from search results\n",
    "    context = \"\"\n",
    "    for result in search_results:\n",
    "        source = result['source']\n",
    "        year = result.get('year', '')\n",
    "        content = result['content']\n",
    "        summary = result['summary']\n",
    "        key_topics = result['key_topics']\n",
    "        context += f\"Source: {source.capitalize()} ({year})\\nContent: {content}\\n\\n\"  #Summary: {summary}\\nKey topics: {key_topics}\\n\n",
    "\n",
    "\n",
    "    # Assemble the prompt\n",
    "    prompt = f\"{instruction}Context:\\n{context}\\nQuestion: {query}\\nAnswer:\"\n",
    "    return prompt\n"
   ]
  },
  {
   "cell_type": "code",
   "execution_count": 10,
   "metadata": {},
   "outputs": [
    {
     "name": "stdout",
     "output_type": "stream",
     "text": [
      "You are a financial analyst assistant with deep knowledge of Warren Buffett's investment principles. Using the provided context, answer the user's question. Use only the facts from the context when answering the question.If the context is insufficient, let the user know. Provide clear, concise explanations, and include relevant insights from Warren Buffett's letters or the company's annual reports.\n",
      "\n",
      "Context:\n",
      "Source: Motherson annual report (2023)\n",
      "Content: Three pillars of growth Customer trust is reflected in the highest-ever revenues that Motherson recorded in FY23 and its strong order book of approximately USD 70 billion. disclosed in March 2023, which provides visibility for the next 5-6 years. “When customers trust us, they give us more opportunities,” Sehgal says. “And we create these new solutions in three ways. Either we do it organically by ourselves, through a partnership or, if that is not possible, through an acquisition.” Organic growth comes in the form of more orders from OEMs across new car models and variants. It also means customers asking Motherson to enter new product segments. As per projected forecasts, automotive production growth in emerging countries is to be double that of developed markets. Emerging markets account for more than 50% of the group’s total revenues in work hard to ensure the companies are run sustainably by the local management and employees and achieve a 40% ROCE in 4-6 years.” Is the challenging business environment, with high interest rates, affecting the ability of Motherson to do acquisitions? “On the contrary,” Sehgal says. “Many companies have come under financial distress, also with the industry going through a consolidation phase due to the transition from ICE to EVs, there are many opportunities for us. In fact, given our track record of being a turnaround specialist and our strong balance sheet, customers see us as a preferred partner for acquisitions. There are many opportunities for us to look at distressed companies.” In FY23 alone, Motherson has announced a record six acquisitions, with a combined proforma of USD 4.9 billion in gross revenues and USD 1.1 billion in net revenues. This brings the total to 33 acquisitions since 2002. While these new companies vary in size, all of them are of strategic importance. “The full growth potential of these acquisitions will become clear in the coming times,” Sehgal says. “But thanks to our ability to scale, diversify, turnaround and enjoy integration synergies, we are confident that all these transactions will enhance cash earnings per share.” The company’s emerging verticals are also poised for growth. “It took us four decades to be a global automotive supplier,” Sehgal reflects. “But the knowledge, skill, access to resources and global relationships we developed in the process, now allow us to enter new industries and achieve a leadership position in a fraction of that time.”“Given our track record of being a turnaround specialist and our strong balance sheet, customers see us as a preferred partner for acquisitions.”D annual report 2022-2023 23chapter 5 motherson as a platform for growthAs customers entrust Motherson with more and more opportunities — which the company supports organically, through joint ventures or acquisitions — the content and value Motherson delivers to OEMs is increasing every year. 11. Diversified and powertrain agnostic portfolio This is reflected in the repertoire of solutions Motherson offers. “We have a diversified product portfolio in automotive and a growing portfolio in the new divisions,” Sehgal explains. This evolution is also reflected in how its divisions developed their global competences. The Wiring Harness division began by supplying to passenger vehicles, but today supports commercial vehicles, two-wheelers and rolling stock. Vision Systems started making simple mirrors and today is a global market leader, focussing on next generation products such as camera-based systems and the EcoMirror. The same is true for its diversification into new industries – Aerospace, Health & Medical, Logistics and IT. A large part of our product portfolio is powertrain agnostic. “Our portfolio is well-aligned with changing industry dynamics, as the world moves forward with electrification and lightweighting,” Sehgal says. “Around 20% of our USD 70 billion booked business is pure EV.” This percentage is likely to increase as the world moves towards a Carbon Net Zero society, with OEMs launching more EVs and FCEV based cars. The electrification trend could also strengthen the growth of content and value per car for Motherson. “Electric vehicles tend to be more feature-rich,” Sehgal clarifies, “as people want more screens and connectivity.” Consumer preference is also changing through an increased demand for SUVs and premiumisation, meaning that customers want more high-end and expensive features. “This helps our growth as well, as we are a bit more strongly present in these segments. Across all these areas, we focus on vertical integration to strengthen our control over quality and costs.” 12 . 3CX10 As part of Vision 2025, Motherson has set a goal of ‘3CX10’. “It means no Customer, Component, or Country should contribute more than 10% to our revenues,” Sehgal explains. “This reduces our risks. When one country has a slowdown, other markets are doing well.\n",
      "\n",
      "Source: Letter (2007)\n",
      "Content: I’m willing to bet, however, that Dennis – with the help of his partner, Dave Meleski – will build a large operation, earning good returns on capital employed. Businesses – The Great, the Good and the Gruesome Let’s take a look at what kind of businesses turn us on. And while we’re at it, let’s also discuss what we wish to avoid. Charlie and I look for companies that have a) a business we understand; b) favorable long-term economics; c) able and trustworthy management; and d) a sensible price tag. We like to buy the whole business or, if management is our partner, at least 80%. When control-type purchases of quality aren’t available, though, we are also happy to simply buy small portions of great businesses by way of stock-market purchases. It’s better to have a part interest in the Hope Diamond than to own all of a rhinestone. A truly great business must have an enduring “moat” that protects excellent returns on invested capital. The dynamics of capitalism guarantee that competitors will repeatedly assault any business “castle” that is earning high returns. Therefore a formidable barrier such as a company’s being the low- cost producer (GEICO, Costco) or possessing a powerf ul world-wide brand (Coca-Cola, Gillette, American Express) is essential for sustained success. Business history is filled with “Roman Candles,” companies whose moats proved illusory and were soon crossed. Our criterion of “enduring” causes us to rule out companies in industries prone to rapid and continuous change. Though capitalism’s “creative destru ction” is highly beneficial for society, it precludes investment certainty. A moat that must be continuously rebuilt will eventually be no moat at all. Additionally, this criterion eliminates the business whose success depends on having a great manager. Of course, a terrific CEO is a huge asset for any enterprise, and at Berkshire we have an abundance of these managers. Their abilities have created billions of dollars of value that would never have materialized if typical CEOs had been running their businesses. But if a business requires a superstar to produce great results, the business itself cannot be deemed great. A medical partnership led by your area’s premier brain surgeon may enjoy outsized and growing earnings, but that tells little about its future. The pa rtnership’s moat will go when the surgeon goes. You can count, though, on the moat of the Mayo Clinic to endure, even though you can’t name its CEO. 6 Long-term competitive advantage in a stable industry is what we seek in a business. If that comes with rapid organic growth, great. But even without organic growth, such a business is rewarding. We will simply take the lush earnings of the business and use th em to buy similar businesses elsewhere. There’s no rule that you have to invest money where you’ve earned it. Indeed, it’s often a mistake to do so: Truly great businesses, earning huge returns on tangible assets, can’t for any extended period reinvest a large portion of their earnings internally at high rates of return. Let’s look at the prototype of a dream busine ss, our own See’s Candy. The boxed-chocolates industry in which it operates is unexciting: Per-capita consumption in the U.S. is extremely low and doesn’t grow. Many once-important brands have disappeared, and only three companies have earned more than token profits over the last forty years. Indeed, I believe that See’s, though it obtains the bulk of its revenues from only a few states, accounts for nearly half of the entire industry’s earnings. At See’s, annual sales were 16 million pounds of candy when Blue Chip Stamps purchased the company in 1972. (Charlie and I controlled Blue Chip at the time and later merged it into Berkshire.) Last year See’s sold 31 million pounds, a growth rate of only 2% annually. Yet its durable competitive advantage, built by the See’s family over a 50-year period, and strengthened subsequently by Chuck Huggins and Brad Kinstler, has produced extraordinary results for Berkshire. We bought See’s for $25 million when its sales were $30 million and pre-tax earnings were less than $5 million. The capital then required to conduct the business was $8 million. (Modest seasonal debt was also needed for a few months each year.) Co nsequently, the company was earning 60% pre-tax on invested capital. Two factors helped to minimize the funds required for operations. First, the product was sold for cash, and that eliminated accounts receivable. Second, the production and distribution cycle was short, which minimized inventories. Last year See’s sales were $383 million, and pre-tax profits were $82 million. The capital now required to run the business is $40 million.\n",
      "\n",
      "Source: Letter (2014)\n",
      "Content: ‹Investments will always be of great importance to Berkshire and will be handled by several specialists.They will report to the CEO because their investment decisions, in a broad way, will need to becoordinated with Berkshire’s operating and acquisition programs. Overall, though, our investmentmanagers will enjoy great autonomy. In this area, too, we are in fine shape for decades to come. ToddCombs and Ted Weschler, each of whom has spent several years on Berkshire’s investment team, are first-rate in all respects and can be of particular help to the CEO in evaluating acquisitions.All told, Berkshire is ideally positioned for life after Charlie and I leave the scene. We have the rightpeople in place – the right directors, managers and prospective successors to those managers. Our culture,furthermore, is embedded throughout their ranks. Our system is also regenerative. To a large degree, bothgood and bad cultures self-select to perpetuate themselves. For very good reasons, business owners andoperating managers with values similar to ours will continue to be attracted to Berkshire as a one-of-a-kindandpermanenthome.37‹I would be remiss if I didn’t salute another key constituency that makes Berkshire special: our shareholders.Berkshire truly has an owner base unlike that of any other giant corporation. That fact was demonstrated inspades at last year’s annual meeting, where the shareholders were offered a proxy resolution:RESOLVED: Whereas the corporation has more money than it needs and since the owners unlikeWarren are not multi billionaires, the board shall consider paying a meaningful annual dividend onthe shares.The sponsoring shareholder of that resolution never showed up at the meeting, so his motion was notofficially proposed. Nevertheless, the proxy votes had been tallied, and they were enlightening.Not surprisingly, the A shares – owned by relatively few shareholders, each with a large economic interest– voted “no” on the dividend question by a margin of 89 to 1.The remarkable vote was that of our B shareholders. They number in the hundreds of thousands – perhapseven totaling one million – and they voted 660,759,855 “no” and 13,927,026 “yes,” a ratio of about 47 to 1.Our directors recommended a “no” vote but the company did not otherwise attempt to influenceshareholders. Nevertheless, 98% of the shares voting said, in effect, “Don’t send us a dividend but insteadreinvest all of the earnings.” To have our fellow owners – large and small – be so in sync with ourmanagerial philosophy is both remarkable and rewarding.I am a lucky fellow to have you as partners.Warren E. Buffett 38Vice Chairman’s Thoughts – Past and FutureTo the shareholders of Berkshire Hathaway Inc.:I closely watched the 50-year history of Berkshire’s uncommon success under Warren Buffett. And it now seemsappropriate that I independently supplement whatever celebratory comment comes from him. I will try to do fivethings. (1) Describe the management system and policies that caused a small and unfixably-doomed commoditytextile business to morph into the mighty Berkshire that now exists,(2) Explain how the management system and policies came into being,(3) Explain, to some extent, why Berkshire did so well,(4) Predict whether abnormally good results would continue if Buffett were soon to depart, and(5) Consider whether Berkshire’s great results over the last 50 years have implications that may prove usefulelsewhere.The management system and policies of Berkshire under Buffett (herein together called “the Berkshire system”)were fixed early and are described below:(1) Berkshire would be a diffuse conglomerate, averse only to activities about which it could not make usefulpredictions. (2) Its top company would do almost all business through separately incorporated subsidiaries whose CEOswould operate with very extreme autonomy. (3) There would be almost nothing at conglomerate headquarters except a tiny office suite containing aChairman, a CFO, and a few assistants who mostly helped the CFO with auditing, internal control, etc. (4) Berkshire subsidiaries would always prominently include casualty insurers. Those insurers as a groupwould be expected to produce, in due course, dependable underwriting gains while also producingsubstantial “float” (from unpaid insurance liabilities) for investment. (5) There would be no significant system-wide personnel system, stock option system, other incentive system,retirement system, or the like, because the subsidiaries would have their own systems, often different. (6) Berkshire’s Chairman would reserve only a few activities for himself. (i) He would manage almost all security investments, with these normally residing in Berkshire’scasualty insurers. (ii) He would choose all CEOs of important subsidiaries, and he would fix their compensation andobtain from each a private recommendation for a successor in case one was suddenly needed. (iii) He would deploy most cash not needed in subsidiaries after they had increased their competitiveadvantage, with the ideal deployment being the use of that cash to acquire new subsidiaries. (iv) He would make himself promptly available for almost any contact wanted by any subsidiary’sCEO, and he would require almost no additional contact.\n",
      "\n",
      "Source: Letter (1997)\n",
      "Content: Come to Omaha -- the cradle of capitalism -- in May and enjoy yourself. Warren E. Buffett February 27, 1998 Chairman of the Board\n",
      "\n",
      "Source: Letter (1996)\n",
      "Content: When carried out capably, an investment strategy of that type will often result in its practitioner owning a few securities that will come to represent a very large portion of his portfolio. This investor would get a similar result if he followed a policy of purchasing an interest in, say, 20% of the future earnings of a number of outstanding college basketball stars. A handful of these would go on to achieve NBA stardom, and the investor's take from them would soon dominate his royalty stream. To suggest that this investor should sell off portions of his most successful investments simply because they have come to dominate his portfolio is akin to suggesting that the Bulls trade Michael Jordan because he has become so important to the team. In studying the investments we have made in both subsidiary companies and common stocks, you will see that we favor businesses and industries unlikely to experience major change. The reason for that is simple: Making either type of purchase, we are searching for operations that we believe are virtually certain to possess enormous competitive strength ten or twenty years from now. A fast-changing industry environment may offer the chance for huge wins, but it precludes the certainty we seek. I should emphasize that, as citizens, Charlie and I welcome change: Fresh ideas, new products, innovative processes and the like cause our country's standard of living to rise, and that's clearly good. As investors, however, our reaction to a fermenting industry is much like our attitude toward space exploration: We applaud the endeavor but prefer to skip the ride. Obviously all businesses change to some extent. Today, See's is different in many ways from what it was in 1972 when we bought it: It offers a different assortment of candy, employs different machinery and sells through different distribution channels. But the reasons why people today buy boxed chocolates, and why they buy them from us rather than from someone else, are virtually unchanged from what they were in the 1920s when the See family was building the business. Moreover, these motivations are not likely to change over the next 20 years, or even 50. We look for similar predictability in marketable securities. Take Coca-Cola: The zeal and imagination with which Coke products are sold has burgeoned under Roberto Goizueta, who has done an absolutely incredible job in creating value for his shareholders. Aided by Don Keough and Doug Ivester, Roberto has rethought and improved every aspect of the company. But the fundamentals of the business - the qualities that underlie Coke's competitive dominance and stunning economics - have remained constant through the years. I was recently studying the 1896 report of Coke (and you think that you are behind in your reading!). At that time Coke, though it was already the leading soft drink, had been around for only a decade. But its blueprint for the next 100 years was already drawn. Reporting sales of $148,000 that year, Asa Candler, the company's president, said: \"We have not lagged in our efforts to go into all the world teaching that Coca-Cola is the article, par excellence, for the health and good feeling of all people.\" Though \"health\" may have been a reach, I love the fact that Coke still relies on Candler's basic theme today - a century later. Candler went on to say, just as Roberto could now, \"No article of like character has ever so firmly entrenched itself in public favor.\" Sales of syrup that year, incidentally, were 116,492 gallons versus about 3.2 billion in 1996. I can't resist one more Candler quote: \"Beginning this year about March 1st . . . we employed ten traveling salesmen by means of which, with systematic correspondence from the office, we covered almost the territory of the Union.\" That's my kind of sales force. Companies such as Coca-Cola and Gillette might well be labeled \"The Inevitables.\" Forecasters may differ a bit in their predictions of exactly how much soft drink or shaving-equipment business these companies will be doing in ten or twenty years. Nor is our talk of inevitability meant to play down the vital work that these companies must continue to carry out, in such areas as manufacturing, distribution, packaging and product innovation. In the end, however, no sensible observer - not even these companies' most vigorous competitors, assuming they are assessing the matter honestly - questions that Coke and Gillette will dominate their fields worldwide for an investment lifetime. Indeed, their dominance will probably strengthen. Both companies have significantly expanded their already huge shares of market during the past ten years, and all signs point to their repeating that performance in the next decade.\n",
      "\n",
      "Source: Letter (2010)\n",
      "Content: Our businesses related to home construction, however, continue to struggle.Johns Manville, MiTek, Shaw and Acme Brick have maintained their competitive positions, but their profits arefar below the levels of a few years ago. Combined, these operations earned $362 million pre-tax in 2010compared to $1.3 billion in 2006, and their employment has fallen by about 9,400.A housing recovery will probably begin within a year or so. In any event, it is certain to occur at somepoint. Consequently: (1) At MiTek, we have made, or committed to, five bolt-on acquisitions during the pasteleven months; (2) At Acme, we just recently acquired the leading manufacturer of brick in Alabama for$50 million; (3) Johns Manville is building a $55 million roofing membrane plant in Ohio, to be completed nextyear; and (4) Shaw will spend $200 million in 2011 on plant and equipment, all of it situated in America. Thesebusinesses entered the recession strong and will exit it stronger. At Berkshire, our time horizon is forever.Regulated, Capital-Intensive BusinessesWe have two very large businesses, BNSF and MidAmerican Energy, with important commoncharacteristics that distinguish them from our many others. Consequently, we give them their own sector in thisletter and split out their financial statistics in our GAAP balance sheet and income statement.A key characteristic of both companies is the huge investment they have in very long-lived, regulatedassets, with these funded by large amounts of long-term debt that is notguaranteed by Berkshire. Our credit is not needed: Both businesses have earning power that, even under very adverse business conditions, amply coverstheir interest requirements. For example, in recessionary 2010 with BNSF’s car loadings far off peak levels, thecompany’s interest coverage was 6:1.Both companies are heavily regulated, and both will have a never-ending need to make majorinvestments in plant and equipment. Both also need to provide efficient, customer-satisfying service to earn therespect of their communities and regulators. In return, both need to be assured that they will be allowed to earnreasonable earnings on future capital investments.Earlier I explained just how important railroads are to our country’s future. Rail moves 42% ofAmerica’s inter-city freight, measured by ton-miles, and BNSF moves more than any other railroad – about 28%of the industry total. A little math will tell you that more than 11% of allinter-city ton-miles of freight in the U.S. is transported by BNSF. Given the shift of population to the West, our share may well inch higher.All of this adds up to a huge responsibility. We are a major and essential part of the Americaneconomy’s circulatory system, obliged to constantly maintain and improve our 23,000 miles of track along withits ancillary bridges, tunnels, engines and cars. In carrying out this job, we must anticipate society’s needs, notmerely react to them. Fulfilling our societal obligation, we will regularly spend far more than our depreciation,with this excess amounting to $2 billion in 2011. I’m confident we will earn appropriate returns on our hugeincremental investments. Wise regulation and wise investment are two sides of the same coin.At MidAmerican, we participate in a similar “social compact.” We are expected to put up ever-increasing sums to satisfy the future needs of our customers. If we meanwhile operate reliably and efficiently, weknow that we will obtain a fair return on these investments. 14MidAmerican supplies 2.4 million customers in the U.S. with electricity, operating as the largestsupplier in Iowa, Wyoming and Utah and as an important provider in other states as well. Our pipelines transport8% of the country’s natural gas. Obviously, many millions of Americans depend on us every day.MidAmerican has delivered outstanding results for both its owners (Berkshire’s interest is 89.8%) and itscustomers. Shortly after MidAmerican purchased Northern Natural Gas pipeline in 2002, that company’sperformance as a pipeline was rated dead last, 43 out of 43, by the leading authority in the field. In the most recentreport published, Northern Natural was ranked second. The top spot was held by our other pipeline, Kern River.In its electric business, MidAmerican has a comparable record. Iowa rates have not increased since wepurchased our operation there in 1999. During the same period, the other major electric utility in the state hasraised prices more than 70% and now has rates far above ours. In certain metropolitan areas in which the twoutilities operate side by side, electric bills of our customers run far below those of their neighbors. I am told thatcomparable houses sell at higher prices in these cities if they are located in our service area.MidAmerican will have 2,909 megawatts of wind generation in operation by the end of 2011, morethan any other regulated electric utility in the country. The total amount that MidAmerican has invested orcommitted to wind is a staggering $5.4 billion.\n",
      "\n",
      "Source: Letter (1995)\n",
      "Content: But I was then a skinny, unpolished 20-year-old who looked about 17, and my pitch usually failed. Undaunted, I wrote a short report late in 1951 about GEICO for \"The Security I Like Best\" column in The Commercial and Financial Chronicle, a leading financial publication of the time. More important, I bought stock for my own account. You may think this odd, but I have kept copies of every tax return I filed, starting with the return for 1944. Checking back, I find that I purchased GEICO shares on four occasions during 1951, the last purchase being made on September 26. This pattern of persistence suggests to me that my tendency toward self-intoxication was developed early. I probably came back on that September day from unsuccessfully trying to sell some prospect and decided - despite my already having more than 50% of my net worth in GEICO - to load up further. In any event, I accumulated 350 shares of GEICO during the year, at a cost of $10,282. At yearend, this holding was worth $13,125, more than 65% of my net worth. You can see why GEICO was my first business love. Furthermore, just to complete this stroll down memory lane, I should add that I earned most of the funds I used to buy GEICO shares by delivering The Washington Post, the chief product of a company that much later made it possible for Berkshire to turn $10 million into $500 million. Alas, I sold my entire GEICO position in 1952 for $15,259, primarily to switch into Western Insurance Securities. This act of infidelity can partially be excused by the fact that Western was selling for slightly more than one times its current earnings, a p/e ratio that for some reason caught my eye. But in the next 20 years, the GEICO stock I sold grew in value to about $1.3 million, which taught me a lesson about the inadvisability of selling a stake in an identifiably-wonderful company. In the early 1970's, after Davy retired, the executives running GEICO made some serious errors in estimating their claims costs, a mistake that led the company to underprice its policies - and that almost caused it to go bankrupt. The company was saved only because Jack Byrne came in as CEO in 1976 and took drastic remedial measures. Because I believed both in Jack and in GEICO's fundamental competitive strength, Berkshire purchased a large interest in the company during the second half of 1976, and also made smaller purchases later. By yearend 1980, we had put $45.7 million into GEICO and owned 33.3% of its shares. During the next 15 years, we did not make further purchases. Our interest in the company, nonetheless, grew to about 50% because it was a big repurchaser of its own shares. Then, in 1995, we agreed to pay $2.3 billion for the half of the company we didn't own. That is a steep price. But it gives us full ownership of a growing enterprise whose business remains exceptional for precisely the same reasons that prevailed in 1951. In addition, GEICO has two extraordinary managers: Tony Nicely, who runs the insurance side of the operation, and Lou Simpson, who runs investments. Tony, 52, has been with GEICO for 34 years. There's no one I would rather have managing GEICO's insurance operation. He has brains, energy, integrity and focus. If we're lucky, he'll stay another 34 years. Lou runs investments just as ably. Between 1980 and 1995, the equities under Lou's management returned an average of 22.8% annually vs. 15.7% for the S&P. Lou takes the same conservative, concentrated approach to investments that we do at Berkshire, and it is an enormous plus for us to have him on board. One point that goes beyond Lou's GEICO work: His presence on the scene assures us that Berkshire would have an extraordinary professional immediately available to handle its investments if something were to happen to Charlie and me. GEICO, of course, must continue both to attract good policyholders and keep them happy. It must also reserve and price properly. But the ultimate key to the company's success is its rock-bottom operating costs, which virtually no competitor can match. In 1995, moreover, Tony and his management team pushed underwriting and loss adjustment expenses down further to 23.6% of premiums, nearly one percentage point below 1994's ratio. In business, I look for economic castles protected by unbreachable \"moats.\" Thanks to Tony and his management team, GEICO's moat widened in 1995. Finally, let me bring you up to date on Davy. He's now 93 and remains my friend and teacher. He continues to pay close attention to GEICO and has always been there when the company's CEOs - Jack Byrne, Bill Snyder and Tony - have needed him.\n",
      "\n",
      "Source: Amarajabat annual report (2023)\n",
      "Content: There are no loans/guarantees issued under Section 186 of the Companies Act, 2013 read with rules issued thereunder.250 AMARA RAJA BATTERIES LIMITED ANNUAL REPORT 2022-23BROADENING OUR HORIZONSNotes to the Standalone Financial Statements for the year ended March 31, 2023 All amounts are in H crores, except share data and where otherwise statedNote 41: Details of expenditure incurred on research and development ParticularsFor the year ended March 31, 2023For the year ended March 31, 2022 Revenue expenditure: (a) C ost of materials consumed 0.79 0.88 (b) C onsumption of stores and spares (including secondary packing material) 0.47 0.36 (c) Emplo yee benefits expense 8.96 8.10 (d) P ower and fuel 0.96 0.78 (e) Others 0.94 0.72 Total Revenue expenditure [A] 12.12 10.84 Capital expenditure [B] 5.05 4.95 Total [A+B] 17.17 15.79 Note 42: Details of Provisions (a) P rovision for warranty is made for estimated warranty claims in respect of sale of certain storage batteries which are still under warranty at the end of the reporting period, the estimated cost of which is accrued at the time of sale. These claims are expected to be settled as and when warranty claims arise. The provision for warranty claims represents the present value of the Management’s best estimate of the future outflow of economic benefits that will be required under the Company’s obligation for warranties. Management estimates the provision based on historical warranty claim information and may vary as a result of new materials, altered manufacturing processes or other events affecting product quality. The products are generally covered under a free warranty period ranging from 6 months to 42 months. (b) T he disclosure of provisions movement as required under the provisions of Ind AS 37 is as follows:- For the year ended March 31, 2023For the year ended March 31, 2022 Balance as at April 1 219.87 186.05 Additional provisions recognised 192.04 156.91 Amount utilised / reversed during the year (167.90) (131.45) Unwinding of discount and effect of changes in the discount rate 13.28 8.36 Reclassified as held for sale (11.87) - Balance as at March 31 245.42 219.87 Out of the above, Classified under Non-current provisions (Refer Note 16) 109.49 87.99 Classified under Current provisions (Refer Note 16) 135.93 131.88 Note 43: Financial instruments and related disclosures A. C apital Management The Company’s financial strategy aims to support its strategic priorities and provide adequate capital to its businesses for growth and creation of sustainable stakeholder value. The Company funds its operations through internal accruals. The Company aims at maintaining a strong capital base largely towards supporting the future growth of its businesses as a going concern. The capital structure of the Company is based on Management’s judgment of its strategic day-to-day needs with a focus on total equity so as to maintain investor, creditors and market confidence. The Management and the Board of Directors monitor the return on capital as well as the level of dividends to shareholders. The Company may take appropriate steps in order to maintain, or if necessary, adjust its capital structure. Equity share capital and other equity are considered for the purpose of Company’s Capital Management.AMARA RAJA BATTERIES LIMITED ANNUAL REPORT 2022-23251 CORPORATE OVERVIEWSTATUTORY REPORTSFINANCIAL STATEMENTS Notes to the Standalone Financial Statements for the year ended March 31, 2023 All amounts are in H crores, except share data and where otherwise statedB. C ategories of Financial Instruments Particulars Carrying value Fair value As at March 31, 2023As at March 31, 2022As at March 31, 2023As at March 31, 2022 Financial assets Measured at amortised cost(i) C ash and cash equivalents 89.44 34.31 89.44 34.31 (ii) O ther bank balances 10.39 19.26 10.39 19.26 (iii) T rade receivables 779.67 792.56 779.67 792.56 (iv) O ther financial assets 429.45 24.98 429.45 24.98 (v) I nvestments 0.01 0.01 0.01 0.01 (vi) Loans 88.71 - 88.71 - Measured at cost(i) I nvestment in subsidiary 200.57 0.57 200.57 0.57 Measured at FVTOCI(i) I nvestment in equity instruments 52.20 10.95 52.20 10.95 (ii) I nvestment in preference shares 209.46 31.52 209.46 31.52 Measured at FVTPLMandatorily measured:Current investment- Mutual funds 23.77 34.73 23.77 34.73 Total Financial assets 1,883.67 948.89 1,883.67 948.89 Financial liabilitiesMeasured at amortised cost(i) B orrowings 16.52 23.39 16.52 23.39 (ii) T rade payables 750.75 806.45 750.75 806.45 (iii) O ther financial liabilities 245.10 298.78 245.10 298.78 (iv) L ease Liabilities 90.29 102.50 90.29 102.50 Total Financial liabilities 1,102.66 1,231.12 1,102.66 1,231.12 C. F inancial risk management objectives The Company has a system-based approach to risk management, anchored to policies and procedures and internal financial controls aimed at ensuring early identification, evaluation and management of key financial risks (such as market risk, foreign currency risk, credit risk and liquidity risk) that may arise as a consequence of its business operations as well as its investing and financing activities.\n",
      "\n",
      "Source: Motherson annual report (2023)\n",
      "Content: In this endeavor to achieve Vision 2025, we continue to follow our Prudent Financial Policies • Leverage: Net Debt to EBITDA ratio to be maintained below 2.5x on a sustainable basis (~12 Months) • Liquidity: Maintain diversified sources of funding with a large portion of long-term facilities. Cash and committed undrawn facilities to be at more than 15 days of sales. • M&A: Robust evaluation framework for strategic fit and internal investment thresholds. Synergies such as vertical integration, access to technology, process and best practices form key metrics in our selection process. We aspire to achieve a steady state ROCE of 40% in all investments. SAMIL Automotive Booked Business Our complete automotive gross booked business8 7 Booked business is computed as the sum of lifetime sales of business under production and yet to start production 8 EV sales include only pure EV programs and not electric versions of multi powertrain vehicles and is calculated based on EV sales of wiring harness, module and polymer products and Vision systems business divisions divided by total gross revenuesis approx. USD 69.1 Bn as on 31st March 2023. This comprises booked business of Wiring Harness, Modules & Polymer, Vision Systems, Lighting & Electronics, Precision Metals & Modules and Elastomers divisions. 20% of the booked business is towards Electric Vehicles “EV”9 platforms. The booked business consists of both Passenger and Commercial vehicles, with an average life of five to six years providing a good run rate visibility on future revenues. M&A M&A is a key pillar of our growth strategy. The high interest rate and challenging business environment has resulted in many opportunities with customers looking for strong and healthy partners to support their supply chain. Most of our acquisitions are at customers behest and their support. In FY2022-23 the Company announced 6 transactions, the full growth potential of which will be unlocked in the near future. The combined gross revenue of announced transactions is approx. USD 4.9 Bn (Gross10) and USD 1.1 Bn (Net) with approximately 40 facilities and 8,000 employees. The company has also announced 5 strategic transactions up till 15th July 2023, the combined revenue of approx. 900 Mn USD. • YMAT is a Joint venture company with Youngshin Components Co. Ltd Korea engaged in manufacturing and assembly of auto clutch products, SAMIL has increased its stake from 50% to 80% basis which full benefits of future growth will accrue to the company. Transaction was closed in June 2023. • Cirma is engaged in manufacturing and sale of Electrical Wiring & Interconnect Systems (EWIS) for aerospace, shipbuilding and allied Industries based out of France. SAMIL has acquired 100% stake in Cirma, the transaction is expected to be completed by Q3FY24. • Yachiyo is engaged in manufacturing of Sunroofs, Plastic Fuel Tanks and Resin products. SAMIL has entered into an agreement and strategic partnership with Honda Motor to acquire 81% stake in Yachiyo 4W Business. Transaction is expected to be completed by Q1FY25. 9 SAS performs the assembly of highly customized components by procuring various parts from suppliers identified by the customers. It acts as an agent as per IFRS-15, under these contracts and as required under the standard, it recognizes revenue only for the net amount it retains for the assembly services. 10 Total revenue considered is including 100% of joint venture and associate companies consolidated under equity method.130 Samvardhana Motherson International Limited• Prysm is engaged in design development, manufacturing and sale of large format touch enabled display screens with embedded collaborative software developing Gen-3 prototype. Upon successful delivery of Gen-3 prototype as per agreed specification and associated conditions, which is expected by Q4FY24, the Company would furtherinvest USD 20 Million and convert secured note to equity for majority stake i.e., not less than 72% on a fully dilutedbasis. • Roll-on Hydraulics is engaged in the manufacturing, sub-assembly and supply of high precision turned parts, spools, and other machined components with critical engineering applications. The company has acquired 100%stake in Roll-On Hydraulics, the transaction is expected to close by Q2FY24. Diversification with 3CX10 Our core strategy of 3CX10, where in no country, customer or component should contribute more than 10% of our consolidated revenues enables us to de-risk the business and demonstrate resilient performance. We have successfully achieved 3CX10 on the customer side. We are continuously working on further diversifying our component and geographic mix. Charts below presents the 3CX10 11,12,13 performance for the financial year 22-23 * Under Modules and Polymer Products business divisionEqual Exposure to Developed & Emerging MarketsSAMIL follows a globally local strategy with the ability to manufacture and supply to customers in the same region.\n",
      "\n",
      "Source: Motherson annual report (2023)\n",
      "Content: The acquisition is expected to be completed by December 2023 following the completion of the consultation process with representatives for the employees in France and the fulfilment of all conditions of the agreement. The road ahead The Aerospace division is expanding, strengthened by the many benefits that the Motherson platform offers, especially in the area of management and the ability to form partnerships and do acquisitions. The post-COVID recovery of the aerospace industry suggests a promising future for the division. We are well-positioned to respond to both the current build rates for commercial aircraft as well as the anticipated increase in demand. Key expansions in our product portfolio and capabilities, such as our entry into EWIS through the acquisition of Cirma Enterprise, allow us to offer a broader range of solutions to our customers, which helps us better support them in meeting their goals. We have our sights firmly fixed not only on our Vision 2025 targets but also on the path beyond, and our strategy going forward is twofold: to answer the demands of the present by drawing on our manifold resources while anticipating the needs of the future using the spirit of innovation that is embedded in our DNA. Thus, we will continually look for new opportunities to expand our product offerings and services in order to further secure our position as a globally preferred sustainable solutions provider in the aerospace industry. processes approved by all major aerospace OEMs. These certifi ca tions allow Motherson to serve as a one- stop solutions shop for customers seeking metallic components. Additionally, we are undergoing qualification from a leading aircraft OEM for injection-moulded parts through the Motherson facility in Noida, and we anticipate joining their suppliers’ panel soon. Inorganic growth As part of our growth strategy, we continually evaluate opportunities for strategic partnerships and acqui sitions that will increase our footprint, enhance our capabilities, and further consolidate our market position. In the initial phase, Motherson acquired a 55% stake in CIM Tools Pvt. Ltd., a leading aerospace machining company in India that supplies to major OEMs and Primes. CIM Tools produces detailed, structural machined parts for aircraft doors, wings, tail, and fuselage. The pedigree of both partners — CIM Tools, with its 25 years in the industry, and Motherson, with its decades of experience in the automotive sector — will serve as a strong platform from which we can address a larger global market and spur future growth. Furthermore, we have recently announced the acquisition of Cirma Enterprise, a France-based company engaged in manufacturing electrical wiring and interconnect systems (EWIS) for aerospace, shipbuilding, and allied industries, an important diversification to our product portfolio. This expansion aligns annual report 2022-2023 111chapter 17 emerging businessesThe Logistics Solutions division of Motherson is responsible for providing end-to-end logistics services for finished vehicles (FV) in India for external customers and fourth-party logistics (4PL) solutions primarily for all Motherson companies. The division consists of two companies, Samvardhana Motherson Global Carriers Limited (SMGCL) and Samvardhana Motherson Hamakyorex Engineered Logistics Limited (SAMRX). The division endeavours to become the preferred provider of socially and environmentally conscious logistics solutions, focussing on safety and data-driven decision-making. With a focus on structuring the logistics industry in India and improving the customer and driver experience, the Logistics Solutions division operates a technologically advanced trucking fleet. These telematics-enabled trucks with advanced sensors monitor everything from the fuel and tyres to drivers’ driving behaviour and ensure the safe and optimum use of resources. Our fleet features comfortable, air-conditioned cabins and large carrying capacities making them highly efficient for transporting finished vehicles and providing secure and faster delivery options to our customers. Despite the ongoing turbulence in the global market, the Logistics Solutions division has performed well in the past fiscal year. The division has achieved revenue growth and expanded its customer base. It has also invested in recruiting highly trained individuals to bolster its workforce. The company focusses on establishing a pool of well-trained and skilled drivers, aiming to meet the growing demand for proficient drivers in the country.Let’s take a look at some of these developments in more detail. Organic growth During the fiscal year 2022-23, Motherson’s Logistics Solutions division experienced organic growth in various aspects of its operations. SAMRX, one of the company in the division, expanded its fleet by adding 90 new trailers, bringing the total to 140 trailers. This fleet serves customers across India (serving the top five major customers/OEMs) and facilitates the delivery of nearly 4,000 vehicles monthly. In addition to FV transportation, the division added FV storage and spare parts warehousing to its portfolio to further consolidate its market position as a comprehensive automotive logistics solutions provider. We have added FV storage and spare parts warehousing services to our portfolio to further consolidate our market position.\n",
      "\n",
      "\n",
      "Question: Explain Warren Buffett's investment strategy focusing on companies with strong moats.\n",
      "Answer:\n"
     ]
    }
   ],
   "source": [
    "print (build_prompt(query, res))"
   ]
  },
  {
   "cell_type": "code",
   "execution_count": 11,
   "metadata": {},
   "outputs": [
    {
     "name": "stdout",
     "output_type": "stream",
     "text": [
      "Warren Buffett's investment strategy emphasizes investing in companies with strong and enduring competitive advantages, often referred to as \"moats.\" Here are the key aspects of this strategy:\n",
      "\n",
      "1. **Understanding the Business**: Buffett looks for businesses that are simple and easy to understand. This allows for better prediction of future performance and risks. For example, he has invested in companies like Coca-Cola and See's Candy, whose business models are straightforward and have remained relatively unchanged over the years.\n",
      "\n",
      "2. **Favorable Long-Term Economics**: The company should have favorable long-term economic prospects. This includes the ability to generate consistent and high returns on capital employed (ROCE). For instance, See's Candy, despite operating in an unexciting industry with low growth, has produced extraordinary results due to its durable competitive advantage.\n",
      "\n",
      "3. **Strong Moat**: A truly great business must have an enduring moat that protects its high returns on invested capital. This moat can come from various sources such as being the low-cost producer (e.g., GEICO), having a powerful brand (e.g., Coca-Cola), or possessing significant market share. The moat ensures that the business can fend off competitors and maintain its profitability over time.\n",
      "\n",
      "4. **Stable Industry**: Buffett prefers companies in stable industries that are not prone to rapid and continuous change. This stability allows for greater investment certainty. For example, he avoids industries that require constant innovation to stay competitive, as these can be unpredictable and risky.\n",
      "\n",
      "5. **Trustworthy Management**: Able and trustworthy management is crucial. Buffett values managers who are competent and have integrity. This is evident in his praise for managers like Tony Nicely at GEICO and Roberto Goizueta at Coca-Cola, who have significantly contributed to their companies' success.\n",
      "\n",
      "6. **Sensible Price**: The price paid for the business should be reasonable relative to its intrinsic value. Buffett is known for his disciplined approach to valuation, ensuring that he does not overpay for his investments.\n",
      "\n",
      "7. **Long-Term Holding**: Buffett's strategy involves holding investments for the long term, allowing the compounding of returns. He famously held onto his stake in Coca-Cola and See's Candy for decades, benefiting from their enduring competitive advantages.\n",
      "\n",
      "In summary, Warren Buffett's investment strategy focuses on identifying companies with strong and enduring moats, favorable long-term economics, stable industries, and capable management, all purchased at sensible prices. This approach aims to ensure sustained high returns on invested capital and long-term investment success.\n"
     ]
    }
   ],
   "source": [
    "def call_llm(prompt, model='gpt-4o'):\n",
    "    response = client.chat.completions.create(\n",
    "        model=model,\n",
    "        messages=[{'role': 'user', 'content': prompt}],\n",
    "        max_tokens=1500,\n",
    "        temperature=0.5\n",
    "    )\n",
    "    answer = response.choices[0].message.content.strip()\n",
    "    return answer\n",
    "\n",
    "# Example prompt\n",
    "prompt = build_prompt(query, res) #\"Explain Warren Buffett's investment strategy focusing on companies with strong moats.\"\n",
    "\n",
    "# Get the response\n",
    "response = call_llm(prompt)\n",
    "print(response)\n"
   ]
  },
  {
   "cell_type": "code",
   "execution_count": 12,
   "metadata": {},
   "outputs": [
    {
     "name": "stderr",
     "output_type": "stream",
     "text": [
      "/var/folders/8x/4tbqnfzd0tz4gn4chf6rr2ch0000gp/T/ipykernel_12574/1910932479.py:25: ElasticsearchWarning: Elasticsearch built-in security features are not enabled. Without authentication, your cluster could be accessible to anyone. See https://www.elastic.co/guide/en/elasticsearch/reference/7.17/security-minimal-setup.html to enable security.\n",
      "  response = es.search(index=index, body=search_body)\n"
     ]
    },
    {
     "name": "stdout",
     "output_type": "stream",
     "text": [
      "Warren Buffett's investment strategy emphasizes the importance of investing in companies with strong, enduring competitive advantages, often referred to as \"moats.\" Here are the key elements of his strategy:\n",
      "\n",
      "1. **Understandable Business**: Buffett and his partner Charlie Munger prefer to invest in businesses they understand well. This means they avoid industries prone to rapid and continuous change, as these can preclude investment certainty.\n",
      "\n",
      "2. **Favorable Long-term Economics**: They look for businesses with favorable long-term economic prospects. This includes companies that can sustain high returns on invested capital over time.\n",
      "\n",
      "3. **Able and Trustworthy Management**: Buffett values competent and honest management. However, he prefers businesses that do not rely solely on exceptional managers for their success, as the business should be able to thrive even if the current management team changes.\n",
      "\n",
      "4. **Sensible Price**: The price paid for the business must make sense in relation to its intrinsic value. Buffett is known for his discipline in not overpaying for investments.\n",
      "\n",
      "5. **Enduring Moat**: A truly great business must have an enduring moat that protects its excellent returns on invested capital. This moat could be due to factors like being a low-cost producer (e.g., GEICO, Costco) or possessing a powerful worldwide brand (e.g., Coca-Cola, Gillette, American Express).\n",
      "\n",
      "6. **Stable Industry**: Long-term competitive advantage in a stable industry is crucial. Buffett avoids businesses in industries prone to rapid and continuous change because a moat that must be continuously rebuilt will eventually be no moat at all.\n",
      "\n",
      "7. **Predictability**: Buffett seeks predictability in the business's future. For example, while See's Candies and Coca-Cola have evolved over the years, the fundamental reasons for their success have remained constant.\n",
      "\n",
      "8. **Reinvestment of Earnings**: Even without rapid organic growth, a business with a strong moat can be rewarding. Buffett emphasizes taking the lush earnings from such businesses and using them to buy similar businesses elsewhere, rather than necessarily reinvesting them in the same business.\n",
      "\n",
      "In summary, Buffett's strategy revolves around finding businesses with durable competitive advantages, predictable long-term prospects, and competent management, all at a sensible price. This approach helps ensure that the investments can provide sustained high returns over the long term.\n"
     ]
    }
   ],
   "source": [
    "def rag_pipeline(query, use_semantic_search=False):\n",
    "    \"\"\"\n",
    "    Runs the Retrieval-Augmented Generation pipeline for a given query.\n",
    "\n",
    "    Parameters:\n",
    "    - query (str): The user's question or query.\n",
    "    - use_semantic_search (bool): Whether to use semantic search.\n",
    "\n",
    "    Returns:\n",
    "    - The final answer from the LLM.\n",
    "    \"\"\"\n",
    "    # Step 1: Retrieve Documents\n",
    "    if use_semantic_search:\n",
    "        search_results = semantic_search(query)\n",
    "    else:\n",
    "        search_results = search_documents(query)\n",
    "\n",
    "    # Step 2: Build Prompt\n",
    "    prompt = build_prompt(query, search_results)\n",
    "\n",
    "    # Step 3: Call LLM\n",
    "    try:\n",
    "        answer = call_llm(prompt)\n",
    "    except Exception as e:\n",
    "        answer = f\"An error occurred while generating the answer: {e}\"\n",
    "\n",
    "    return answer\n",
    "\n",
    "\n",
    "print (rag_pipeline(query))"
   ]
  },
  {
   "cell_type": "code",
   "execution_count": 16,
   "metadata": {},
   "outputs": [
    {
     "name": "stderr",
     "output_type": "stream",
     "text": [
      "  0%|          | 0/1625 [00:00<?, ?it/s]/var/folders/8x/4tbqnfzd0tz4gn4chf6rr2ch0000gp/T/ipykernel_12574/1910932479.py:25: ElasticsearchWarning: Elasticsearch built-in security features are not enabled. Without authentication, your cluster could be accessible to anyone. See https://www.elastic.co/guide/en/elasticsearch/reference/7.17/security-minimal-setup.html to enable security.\n",
      "  response = es.search(index=index, body=search_body)\n",
      "100%|██████████| 1625/1625 [09:17<00:00,  2.92it/s]"
     ]
    },
    {
     "name": "stdout",
     "output_type": "stream",
     "text": [
      "0.512 0.32761025641025626\n"
     ]
    },
    {
     "name": "stderr",
     "output_type": "stream",
     "text": [
      "\n"
     ]
    }
   ],
   "source": [
    "def simulate_queries(questions_data):\n",
    "    query_results = []\n",
    "    for item in tqdm(questions_data):\n",
    "        for question in item['questions']:\n",
    "            true_chunk_id = item['chunk_id']\n",
    "            # Retrieve top-N chunks using your RAG system\n",
    "            retrieved_chunks = search_documents(question)  # Implement this function\n",
    "            retrieved_chunk_ids = [chunk['chunk_id'] for chunk in retrieved_chunks]\n",
    "            query_results.append({\n",
    "                'question': question,\n",
    "                'true_chunk_id': true_chunk_id,\n",
    "                'retrieved_chunk_ids': retrieved_chunk_ids\n",
    "            })\n",
    "    return query_results\n",
    "\n",
    "def compute_hit_rate(query_results):\n",
    "    hits = 0\n",
    "    total = len(query_results)\n",
    "    for result in tqdm(query_results):\n",
    "        if result['true_chunk_id'] in result['retrieved_chunk_ids']:\n",
    "            hits += 1\n",
    "    hit_rate = hits / total\n",
    "    return hit_rate\n",
    "\n",
    "def compute_mrr(query_results):\n",
    "    rr_sum = 0\n",
    "    total = len(query_results)\n",
    "    for result in tqdm(query_results):\n",
    "        try:\n",
    "            rank = result['retrieved_chunk_ids'].index(result['true_chunk_id']) + 1\n",
    "            rr_sum += 1 / rank\n",
    "        except ValueError:\n",
    "            continue  # True chunk not in retrieved results\n",
    "    mrr = rr_sum / total\n",
    "    return mrr\n",
    "\n",
    "\n",
    "\n",
    "\n",
    "questions_path = '../data/questions_data.json'\n",
    "with open(questions_path, 'r') as json_file:\n",
    "    questions_data = json.load(json_file)\n",
    "\n",
    "\n",
    "query_results = simulate_queries(questions_data)\n",
    "print (compute_hit_rate(query_results), compute_mrr(query_results))\n"
   ]
  },
  {
   "cell_type": "code",
   "execution_count": null,
   "metadata": {},
   "outputs": [],
   "source": []
  },
  {
   "cell_type": "code",
   "execution_count": null,
   "metadata": {},
   "outputs": [],
   "source": []
  }
 ],
 "metadata": {
  "kernelspec": {
   "display_name": "buffett-wisdom-rag-yofaZaKX",
   "language": "python",
   "name": "python3"
  },
  "language_info": {
   "codemirror_mode": {
    "name": "ipython",
    "version": 3
   },
   "file_extension": ".py",
   "mimetype": "text/x-python",
   "name": "python",
   "nbconvert_exporter": "python",
   "pygments_lexer": "ipython3",
   "version": "3.10.8"
  }
 },
 "nbformat": 4,
 "nbformat_minor": 2
}
